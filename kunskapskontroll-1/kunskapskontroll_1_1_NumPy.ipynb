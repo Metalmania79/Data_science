{
 "cells": [
  {
   "cell_type": "markdown",
   "id": "dacf74e6",
   "metadata": {},
   "source": [
    "# NumPy"
   ]
  },
  {
   "cell_type": "markdown",
   "id": "01b2bf34",
   "metadata": {},
   "source": [
    "Read the links: https://numpy.org/doc/stable/user/quickstart.html  and https://numpy.org/doc/stable/user/basics.broadcasting.html  before solving the exercises. "
   ]
  },
  {
   "cell_type": "code",
   "execution_count": 128,
   "id": "1f79e4a6",
   "metadata": {},
   "outputs": [],
   "source": [
    "import numpy as np"
   ]
  },
  {
   "cell_type": "markdown",
   "id": "7dae6889",
   "metadata": {},
   "source": [
    "### Print out the dimension (number of axes), shape, size and the datatype of the matrix A."
   ]
  },
  {
   "cell_type": "code",
   "execution_count": 129,
   "id": "7b3678cd",
   "metadata": {},
   "outputs": [],
   "source": [
    "A = np.arange(1, 16).reshape(3,5)"
   ]
  },
  {
   "cell_type": "code",
   "execution_count": 130,
   "id": "31d39235",
   "metadata": {},
   "outputs": [
    {
     "name": "stdout",
     "output_type": "stream",
     "text": [
      "[[ 1  2  3  4  5]\n",
      " [ 6  7  8  9 10]\n",
      " [11 12 13 14 15]]\n",
      "Dimension size:  (3, 5)\n",
      "Amount of elements:  15\n",
      "Datatype of the array's elements: int32\n"
     ]
    }
   ],
   "source": [
    "print(A)\n",
    "print(\"Dimension size: \",A.shape)                       # Dimension size\n",
    "print(\"Amount of elements: \",A.size)                    # Amount of elements\n",
    "print(\"Datatype of the array's elements:\", A.dtype)     # Datatype of the array's elements"
   ]
  },
  {
   "cell_type": "markdown",
   "id": "e56d2a96",
   "metadata": {},
   "source": [
    "### Do the following computations on the matrices B and C: \n",
    "* Elementwise subtraction. \n",
    "* Elementwise multiplication. \n",
    "* Matrix multiplication (by default you should use the @ operator)."
   ]
  },
  {
   "cell_type": "code",
   "execution_count": 131,
   "id": "a7053fbb",
   "metadata": {},
   "outputs": [
    {
     "name": "stdout",
     "output_type": "stream",
     "text": [
      "Default array B: \n",
      " [[1 2 3]\n",
      " [4 5 6]\n",
      " [7 8 9]] \n",
      "\n",
      "Default array C: \n",
      " [[2. 2. 2.]\n",
      " [2. 2. 2.]\n",
      " [2. 2. 2.]] \n",
      "\n"
     ]
    }
   ],
   "source": [
    "B = np.arange(1, 10).reshape(3, 3)\n",
    "C = np.ones((3, 3))*2\n",
    "\n",
    "print(\"Default array B: \\n\", B, \"\\n\")\n",
    "print(\"Default array C: \\n\", C, \"\\n\")\n"
   ]
  },
  {
   "cell_type": "code",
   "execution_count": 132,
   "id": "684c8caa",
   "metadata": {},
   "outputs": [
    {
     "name": "stdout",
     "output_type": "stream",
     "text": [
      "Elementwise subtraction with Numpy: \n",
      " [[-1.  0.  1.]\n",
      " [ 2.  3.  4.]\n",
      " [ 5.  6.  7.]] \n",
      "\n",
      "Elementwise subtraction without using Numpy: \n",
      " [[-1.  0.  1.]\n",
      " [ 2.  3.  4.]\n",
      " [ 5.  6.  7.]] \n",
      "\n"
     ]
    }
   ],
   "source": [
    "#Using Numpy to subtract from each element\n",
    "print(\"Elementwise subtraction with Numpy: \\n\", np.subtract(B,C),\"\\n\")\n",
    "\n",
    "#Using regular B-C\n",
    "print(\"Elementwise subtraction without using Numpy: \\n\", B-C,\"\\n\")"
   ]
  },
  {
   "cell_type": "code",
   "execution_count": 133,
   "id": "8b4c2691",
   "metadata": {},
   "outputs": [
    {
     "name": "stdout",
     "output_type": "stream",
     "text": [
      "Elementwise multiplication with Numpy: \n",
      " [[ 2.  4.  6.]\n",
      " [ 8. 10. 12.]\n",
      " [14. 16. 18.]] \n",
      "\n",
      "Elementwise multiplication without using Numpy: \n",
      " [[ 2.  4.  6.]\n",
      " [ 8. 10. 12.]\n",
      " [14. 16. 18.]] \n",
      "\n"
     ]
    }
   ],
   "source": [
    "#Using Numpy to multiply from each element\n",
    "print(\"Elementwise multiplication with Numpy: \\n\", np.multiply(B,C),\"\\n\")\n",
    "\n",
    "#Using regular B*C\n",
    "print(\"Elementwise multiplication without using Numpy: \\n\", B*C,\"\\n\")\n"
   ]
  },
  {
   "cell_type": "code",
   "execution_count": 134,
   "id": "3cd794ae",
   "metadata": {},
   "outputs": [
    {
     "name": "stdout",
     "output_type": "stream",
     "text": [
      "[[12. 12. 12.]\n",
      " [30. 30. 30.]\n",
      " [48. 48. 48.]] \n",
      "\n",
      "[[12. 12. 12.]\n",
      " [30. 30. 30.]\n",
      " [48. 48. 48.]] \n",
      "\n",
      "Using @ instead of dot: \n",
      " [[12. 12. 12.]\n",
      " [30. 30. 30.]\n",
      " [48. 48. 48.]]\n"
     ]
    }
   ],
   "source": [
    "# With Numpy\n",
    "print(np.dot(B, C),\"\\n\")             #Returns the scalar or dot product of two arrays\n",
    "print(np.matmul(B, C),\"\\n\")          #Returns the matrix product of two arrays\n",
    "\n",
    "#Without using Numpy - matrix multiplication using @\n",
    "print(\"Using @ instead of dot: \\n\",B @ C)"
   ]
  },
  {
   "cell_type": "markdown",
   "id": "96030d53",
   "metadata": {},
   "source": [
    "### Do the following calculations on the matrix:\n",
    "* Exponentiate each number elementwise (use the np.exp function).\n",
    "\n",
    "* Calculate the minimum value in the whole matrix. \n",
    "* Calculcate the minimum value in each row. \n",
    "* Calculcate the minimum value in each column. \n",
    "\n",
    "\n",
    "* Find the index value for the minimum value in the whole matrix (hint: use np.argmin).\n",
    "* Find the index value for the minimum value in each row (hint: use np.argmin).\n",
    "\n",
    "\n",
    "* Calculate the sum for all elements.\n",
    "* Calculate the mean for each column. \n",
    "* Calculate the median for each column. "
   ]
  },
  {
   "cell_type": "code",
   "execution_count": 135,
   "id": "f8a9166b",
   "metadata": {},
   "outputs": [
    {
     "name": "stdout",
     "output_type": "stream",
     "text": [
      "[[1 2 3]\n",
      " [4 5 6]\n",
      " [7 8 9]]\n"
     ]
    }
   ],
   "source": [
    "B = np.arange(1, 10).reshape(3, 3)\n",
    "print(B)\n"
   ]
  },
  {
   "cell_type": "code",
   "execution_count": 136,
   "id": "f03f24f7",
   "metadata": {},
   "outputs": [
    {
     "name": "stdout",
     "output_type": "stream",
     "text": [
      "Exponentiate: \n",
      " [[   2.7    7.4   20.1]\n",
      " [  54.6  148.4  403.4]\n",
      " [1096.6 2981.  8103.1]] \n",
      "\n",
      "Minimum: \n",
      " 1 \n",
      "\n",
      "Minimum on each row: \n",
      " [1 2 3] \n",
      "\n",
      "Minimum on each col: \n",
      " [1 4 7] \n",
      "\n",
      "index value for minimum value: \n",
      " 0 \n",
      "\n",
      "index value for minimum value on each row: \n",
      " [0 0 0] \n",
      "\n",
      "Calculate sum: \n",
      " 45 \n",
      "\n",
      "Calculate mean for each columnn: \n",
      " [2. 5. 8.] \n",
      "\n",
      "Calculate median for each columnn: \n",
      " [2. 5. 8.] \n",
      "\n"
     ]
    }
   ],
   "source": [
    "#Exponentiate\n",
    "print(\"Exponentiate: \\n\",np.exp(B),\"\\n\")\n",
    "\n",
    "#Minimum\n",
    "print(\"Minimum: \\n\",np.min(B),\"\\n\")\n",
    "\n",
    "#Minimum on each row - using axis \n",
    "print(\"Minimum on each row: \\n\",np.min(B, axis = 0),\"\\n\")\n",
    "print(\"Minimum on each col: \\n\",np.min(B, axis = 1),\"\\n\")\n",
    "\n",
    "#index value for minimum value \n",
    "print(\"index value for minimum value: \\n\",np.argmin(B, axis = None), \"\\n\")\n",
    "print(\"index value for minimum value on each row: \\n\",np.argmin(B, axis = 1), \"\\n\")\n",
    "\n",
    "#Calculate sum\n",
    "print(\"Calculate sum: \\n\",np.sum(B), \"\\n\")\n",
    "\n",
    "#Calculate mean for each columnn\n",
    "print(\"Calculate mean for each columnn: \\n\",np.mean(B, axis = 1), \"\\n\")\n",
    "\n",
    "#Calculate median for each columnn\n",
    "print(\"Calculate median for each columnn: \\n\",np.median(B, axis = 1), \"\\n\")"
   ]
  },
  {
   "cell_type": "markdown",
   "id": "541eb7ba",
   "metadata": {},
   "source": [
    "### What does it mean when you provide fewer indices than axes when slicing? See example below."
   ]
  },
  {
   "cell_type": "code",
   "execution_count": 137,
   "id": "9c8abf56",
   "metadata": {},
   "outputs": [
    {
     "name": "stdout",
     "output_type": "stream",
     "text": [
      "[[ 1  2  3  4  5]\n",
      " [ 6  7  8  9 10]\n",
      " [11 12 13 14 15]]\n"
     ]
    }
   ],
   "source": [
    "print(A)"
   ]
  },
  {
   "cell_type": "code",
   "execution_count": 138,
   "id": "69415f7b",
   "metadata": {},
   "outputs": [
    {
     "data": {
      "text/plain": [
       "array([ 6,  7,  8,  9, 10])"
      ]
     },
     "execution_count": 138,
     "metadata": {},
     "output_type": "execute_result"
    }
   ],
   "source": [
    "A[1]"
   ]
  },
  {
   "cell_type": "markdown",
   "id": "6c53541b",
   "metadata": {},
   "source": [
    "**Answer:**"
   ]
  },
  {
   "cell_type": "code",
   "execution_count": 139,
   "id": "de01e120",
   "metadata": {},
   "outputs": [],
   "source": [
    "# You print out the index (Row) but not the value of the all the rows\n",
    "# 0 is the first row, 1 second etc."
   ]
  },
  {
   "cell_type": "markdown",
   "id": "6652d0c9",
   "metadata": {},
   "source": [
    "### Iterating over multidimensional arrays is done with respect to the first axis, so in the example below we iterate trough the rows. If you would like to iterate through the array *elementwise*, how would you do that?"
   ]
  },
  {
   "cell_type": "code",
   "execution_count": 140,
   "id": "9459864f",
   "metadata": {},
   "outputs": [
    {
     "data": {
      "text/plain": [
       "array([[ 1,  2,  3,  4,  5],\n",
       "       [ 6,  7,  8,  9, 10],\n",
       "       [11, 12, 13, 14, 15]])"
      ]
     },
     "execution_count": 140,
     "metadata": {},
     "output_type": "execute_result"
    }
   ],
   "source": [
    "A"
   ]
  },
  {
   "cell_type": "code",
   "execution_count": 141,
   "id": "a671bb5a",
   "metadata": {},
   "outputs": [
    {
     "name": "stdout",
     "output_type": "stream",
     "text": [
      "[1 2 3 4 5]\n",
      "[ 6  7  8  9 10]\n",
      "[11 12 13 14 15]\n"
     ]
    }
   ],
   "source": [
    "for i in A:\n",
    "    print(i)"
   ]
  },
  {
   "cell_type": "code",
   "execution_count": 142,
   "id": "f4e443a0",
   "metadata": {},
   "outputs": [
    {
     "name": "stdout",
     "output_type": "stream",
     "text": [
      "Columnwise : \n",
      " [[1, 6, 11], [2, 7, 12], [3, 8, 13], [4, 9, 14], [5, 10, 15]] \n",
      "\n",
      "List elementwise: \n",
      "1\n",
      "2\n",
      "3\n",
      "4\n",
      "5\n",
      "6\n",
      "7\n",
      "8\n",
      "9\n",
      "10\n",
      "11\n",
      "12\n",
      "13\n",
      "14\n",
      "15\n",
      "\n",
      "List with ravel: \n"
     ]
    },
    {
     "data": {
      "text/plain": [
       "array([ 1,  2,  3,  4,  5,  6,  7,  8,  9, 10, 11, 12, 13, 14, 15])"
      ]
     },
     "execution_count": 142,
     "metadata": {},
     "output_type": "execute_result"
    }
   ],
   "source": [
    "A = np.arange(1, 16).reshape(3,5)\n",
    "\n",
    "#List columnwise\n",
    "print(\"Columnwise : \\n\",[[row[i] for row in A] for i in range(len(i))], \"\\n\")\n",
    "\n",
    "# List elementwise with loop\n",
    "print(\"List elementwise: \")\n",
    "for idx in range(len(A)):\n",
    "    for j in range(len(A[idx])):\n",
    "        print(A[idx][j])\n",
    "        \n",
    "#Using ravel function to print out a line\n",
    "print(\"\\nList with ravel: \")\n",
    "A.ravel()"
   ]
  },
  {
   "cell_type": "markdown",
   "id": "608a2583",
   "metadata": {},
   "source": [
    "### Explain what the code below does. More specifically, b has three axes - what does this mean? "
   ]
  },
  {
   "cell_type": "code",
   "execution_count": 143,
   "id": "f8f9b26f",
   "metadata": {},
   "outputs": [
    {
     "name": "stdout",
     "output_type": "stream",
     "text": [
      "a: \n",
      " [ 0  1  2  3  4  5  6  7  8  9 10 11 12 13 14 15 16 17 18 19 20 21 22 23\n",
      " 24 25 26 27 28 29]\n",
      "\n",
      "B: \n",
      " [[[ 0  1  2  3  4]\n",
      "  [ 5  6  7  8  9]\n",
      "  [10 11 12 13 14]]\n",
      "\n",
      " [[15 16 17 18 19]\n",
      "  [20 21 22 23 24]\n",
      "  [25 26 27 28 29]]]\n",
      "<class 'numpy.ndarray'>\n"
     ]
    }
   ],
   "source": [
    "a = np.arange(30)\n",
    "b = a.reshape((2, 3, -1))\n",
    "print(\"a: \\n\",a)\n",
    "print()\n",
    "\n",
    "print(\"B: \\n\",b)\n",
    "print(type(b))"
   ]
  },
  {
   "cell_type": "code",
   "execution_count": 144,
   "id": "863a45df",
   "metadata": {},
   "outputs": [],
   "source": [
    "# a is creating 30 elements in an array\n",
    "# b is reshaping the array into a 3D array with 2x2 elements\n",
    "# You do not have to specify an exact number for one of the dimensions in the reshape method.\n",
    "# Pass -1 as the value, and NumPy will calculate this number for you."
   ]
  },
  {
   "cell_type": "markdown",
   "id": "ab5933d5",
   "metadata": {},
   "source": [
    "### Broadcasting\n",
    "**Read the following link about broadcasting: https://numpy.org/doc/stable/user/basics.broadcasting.html#basics-broadcasting**"
   ]
  },
  {
   "cell_type": "markdown",
   "id": "039805ba",
   "metadata": {},
   "source": [
    "# Remark on Broadcasting when doing Linear Algebra calculations in Python. "
   ]
  },
  {
   "cell_type": "markdown",
   "id": "c4bcc147",
   "metadata": {},
   "source": [
    "### From the mathematical rules of matrix addition, the operation below (m1 + m2) does not make sense. The reason is that matrix addition requires two matrices of the same size. In Python however, it works due to broadcasting rules in NumPy. So you must be careful when doing Linear Algebra calculations in Python since they do not follow the \"mathematical rules\". This can however easily be handled by doing some simple programming, for example validating that two matrices have the same shape is easy if you for instance want to add two matrices. "
   ]
  },
  {
   "cell_type": "code",
   "execution_count": 145,
   "id": "1fd46778",
   "metadata": {},
   "outputs": [
    {
     "name": "stdout",
     "output_type": "stream",
     "text": [
      "[[2 3]\n",
      " [4 5]]\n"
     ]
    }
   ],
   "source": [
    "m1 = np.array([[1, 2], [3, 4]])\n",
    "m2 = np.array([1, 1])\n",
    "print(m1 + m2)"
   ]
  },
  {
   "cell_type": "markdown",
   "id": "047d6576",
   "metadata": {},
   "source": [
    "### The example below would also not be allowed if following the \"mathematical rules\" in Linear Algebra. But it works due to broadcasting in NumPy. "
   ]
  },
  {
   "cell_type": "code",
   "execution_count": 146,
   "id": "5e6ef2e4",
   "metadata": {},
   "outputs": [
    {
     "name": "stdout",
     "output_type": "stream",
     "text": [
      "[2 3 4]\n"
     ]
    }
   ],
   "source": [
    "v1 = np.array([1, 2, 3])\n",
    "print(v1 + 1)"
   ]
  },
  {
   "cell_type": "code",
   "execution_count": 147,
   "id": "e2cbae26",
   "metadata": {},
   "outputs": [
    {
     "name": "stdout",
     "output_type": "stream",
     "text": [
      "[[1 2]\n",
      " [3 4]]\n",
      "[2 2]\n",
      "[[3 4]\n",
      " [5 6]]\n"
     ]
    }
   ],
   "source": [
    "A = np.arange(1, 5).reshape(2,2)\n",
    "print(A)\n",
    "\n",
    "b = np.array([2, 2])\n",
    "print(b)\n",
    "\n",
    "print(A+b)"
   ]
  },
  {
   "cell_type": "markdown",
   "id": "722fd5cd",
   "metadata": {},
   "source": [
    "# Linear Algebra Exercises"
   ]
  },
  {
   "cell_type": "markdown",
   "id": "b8935099",
   "metadata": {},
   "source": [
    "The exercies are taken from the \"Matrix Algebra for Engineers\" by Chasnov: https://www.math.hkust.edu.hk/~machas/matrix-algebra-for-engineers.pdf .\n",
    "\n",
    "Do the following exercises: \n",
    "* Chapter 2, exercise 1-3.\n",
    "* Quiz on p.11, exercise 2. \n",
    "* Chapter 6, exercise 1. \n",
    "* Quiz on p.19, exercise 3. \n",
    "\n",
    "\n",
    "* Chapter 10, exercise 1. \n",
    "* Chapter 12 exercise 1. \n"
   ]
  },
  {
   "cell_type": "code",
   "execution_count": 148,
   "id": "a452a77a",
   "metadata": {},
   "outputs": [
    {
     "name": "stdout",
     "output_type": "stream",
     "text": [
      "[[ 2  1 -1]\n",
      " [ 1 -1  1]]\n",
      "[[ 4 -2  1]\n",
      " [ 2 -4 -2]]\n",
      "[[1 2]\n",
      " [2 1]]\n",
      "[[3 4]\n",
      " [4 3]]\n",
      "[[1]\n",
      " [2]]\n"
     ]
    }
   ],
   "source": [
    "A = np.array([[2, 1, -1], [1, -1, 1]])\n",
    "B = np.array([[4, -2, 1], [2, -4, -2]])\n",
    "\n",
    "C = np.array([[1, 2], [2, 1]])\n",
    "D = np.array([[3, 4], [4, 3]])\n",
    "\n",
    "E = np.array([[1], [2]])\n",
    "\n",
    "print(A)\n",
    "print(B)\n",
    "print(C)\n",
    "print(D)\n",
    "print(E)"
   ]
  },
  {
   "cell_type": "markdown",
   "id": "9d8366cc",
   "metadata": {},
   "source": [
    "**Chap2. Question 1.**\n",
    "\n",
    "**Write a function \"add_mult_matrices\" that takes two matrices as input arguments (validate that the input are of the type numpy.ndarray by using the isinstance function), a third argument that is either 'add' or 'multiply' that specifies if you want to add or multiply the matrices (validate that the third argument is either 'add' or 'multiply'). When doing matrix addition, validate that the matrices have the same size. When doing matrix multiplication, validate that the sizes conform (i.e. number of columns in the first matrix is equal to the number of rows in the second matrix).**\n",
    "\n",
    "In this exercise, create a function that takes two matrices as input and either adds or multiplies them by specifying a argument as either 'add' or 'multiply'. Validate that both matrices taken as input are of the type ndarray (use the isinstance function)."
   ]
  },
  {
   "cell_type": "code",
   "execution_count": 149,
   "id": "535ee48c",
   "metadata": {},
   "outputs": [],
   "source": [
    "def add_mult_matrices(ndarray1,ndarray2,calculate):\n",
    "    #Check for valid array\n",
    "    if(isinstance(ndarray1, np.ndarray) & isinstance(ndarray2, np.ndarray)):\n",
    "       #Check for valid calculation\n",
    "       if(calculate == 'add' or calculate == 'multiply'):\n",
    "            if(calculate == 'add'):\n",
    "                if(np.shape(ndarray1) == np.shape(ndarray2)):\n",
    "                    print(\"Adding arrays...\")\n",
    "                    return ndarray1+ndarray2\n",
    "                else:\n",
    "                    print(\"Arrays are not of equal size.\")\n",
    "            elif(calculate == 'multiply'):\n",
    "                #Columns: len(ndarray1[0]) should equal rows of second input: len(ndarray2)\n",
    "                if(len(ndarray1[0]) == len(ndarray2)):\n",
    "                    print(\"Multiplying arrays\")\n",
    "                    return ndarray1.dot(ndarray2)\n",
    "                else:\n",
    "                    raise Exception(f\"Rows from 1st array: {len(ndarray2)}, and Colums from 2nd array: {len(ndarray1[0])}, don't have the correct dimensions\")     \n",
    "       else:\n",
    "           raise ValueError(\"Choose either 'add' or 'multiply' as methods \") \n",
    "    else:\n",
    "        raise Exception(\"First two inputs needs to be arrays. \")\n",
    "    \n"
   ]
  },
  {
   "cell_type": "code",
   "execution_count": 150,
   "id": "8d2f16c4",
   "metadata": {},
   "outputs": [
    {
     "name": "stdout",
     "output_type": "stream",
     "text": [
      "Adding arrays...\n"
     ]
    },
    {
     "data": {
      "text/plain": [
       "array([[ 0, -4,  3],\n",
       "       [ 0, -2, -4]])"
      ]
     },
     "execution_count": 150,
     "metadata": {},
     "output_type": "execute_result"
    }
   ],
   "source": [
    "add_mult_matrices(B,-2*A,'add')"
   ]
  },
  {
   "cell_type": "code",
   "execution_count": 151,
   "id": "f6486e29",
   "metadata": {},
   "outputs": [
    {
     "name": "stdout",
     "output_type": "stream",
     "text": [
      "Arrays are not of equal size.\n"
     ]
    }
   ],
   "source": [
    "add_mult_matrices(3*C,-E,'add')"
   ]
  },
  {
   "cell_type": "code",
   "execution_count": 152,
   "id": "30e107f0",
   "metadata": {},
   "outputs": [
    {
     "ename": "Exception",
     "evalue": "Rows from 1st array: 2, and Colums from 2nd array: 3, don't have the correct dimensions",
     "output_type": "error",
     "traceback": [
      "\u001b[1;31m---------------------------------------------------------------------------\u001b[0m",
      "\u001b[1;31mException\u001b[0m                                 Traceback (most recent call last)",
      "\u001b[1;32mc:\\Users\\D.B\\Desktop\\Utbildning\\EC Utbildning\\Python och statistik\\python_stat-main\\02_kunskapskontroll_1\\Lösta\\kunskapskontroll_1_1_NumPy.ipynb Cell 41\u001b[0m line \u001b[0;36m1\n\u001b[1;32m----> <a href='vscode-notebook-cell:/c%3A/Users/D.B/Desktop/Utbildning/EC%20Utbildning/Python%20och%20statistik/python_stat-main/02_kunskapskontroll_1/L%C3%B6sta/kunskapskontroll_1_1_NumPy.ipynb#X55sZmlsZQ%3D%3D?line=0'>1</a>\u001b[0m add_mult_matrices(A,C,\u001b[39m'\u001b[39m\u001b[39mmultiply\u001b[39m\u001b[39m'\u001b[39m)\n",
      "\u001b[1;32mc:\\Users\\D.B\\Desktop\\Utbildning\\EC Utbildning\\Python och statistik\\python_stat-main\\02_kunskapskontroll_1\\Lösta\\kunskapskontroll_1_1_NumPy.ipynb Cell 41\u001b[0m line \u001b[0;36m1\n\u001b[0;32m     <a href='vscode-notebook-cell:/c%3A/Users/D.B/Desktop/Utbildning/EC%20Utbildning/Python%20och%20statistik/python_stat-main/02_kunskapskontroll_1/L%C3%B6sta/kunskapskontroll_1_1_NumPy.ipynb#X55sZmlsZQ%3D%3D?line=15'>16</a>\u001b[0m              \u001b[39mreturn\u001b[39;00m ndarray1\u001b[39m.\u001b[39mdot(ndarray2)\n\u001b[0;32m     <a href='vscode-notebook-cell:/c%3A/Users/D.B/Desktop/Utbildning/EC%20Utbildning/Python%20och%20statistik/python_stat-main/02_kunskapskontroll_1/L%C3%B6sta/kunskapskontroll_1_1_NumPy.ipynb#X55sZmlsZQ%3D%3D?line=16'>17</a>\u001b[0m          \u001b[39melse\u001b[39;00m:\n\u001b[1;32m---> <a href='vscode-notebook-cell:/c%3A/Users/D.B/Desktop/Utbildning/EC%20Utbildning/Python%20och%20statistik/python_stat-main/02_kunskapskontroll_1/L%C3%B6sta/kunskapskontroll_1_1_NumPy.ipynb#X55sZmlsZQ%3D%3D?line=17'>18</a>\u001b[0m              \u001b[39mraise\u001b[39;00m \u001b[39mException\u001b[39;00m(\u001b[39mf\u001b[39m\u001b[39m\"\u001b[39m\u001b[39mRows from 1st array: \u001b[39m\u001b[39m{\u001b[39;00m\u001b[39mlen\u001b[39m(ndarray2)\u001b[39m}\u001b[39;00m\u001b[39m, and Colums from 2nd array: \u001b[39m\u001b[39m{\u001b[39;00m\u001b[39mlen\u001b[39m(ndarray1[\u001b[39m0\u001b[39m])\u001b[39m}\u001b[39;00m\u001b[39m, don\u001b[39m\u001b[39m'\u001b[39m\u001b[39mt have the correct dimensions\u001b[39m\u001b[39m\"\u001b[39m)     \n\u001b[0;32m     <a href='vscode-notebook-cell:/c%3A/Users/D.B/Desktop/Utbildning/EC%20Utbildning/Python%20och%20statistik/python_stat-main/02_kunskapskontroll_1/L%C3%B6sta/kunskapskontroll_1_1_NumPy.ipynb#X55sZmlsZQ%3D%3D?line=18'>19</a>\u001b[0m \u001b[39melse\u001b[39;00m:\n\u001b[0;32m     <a href='vscode-notebook-cell:/c%3A/Users/D.B/Desktop/Utbildning/EC%20Utbildning/Python%20och%20statistik/python_stat-main/02_kunskapskontroll_1/L%C3%B6sta/kunskapskontroll_1_1_NumPy.ipynb#X55sZmlsZQ%3D%3D?line=19'>20</a>\u001b[0m     \u001b[39mraise\u001b[39;00m \u001b[39mValueError\u001b[39;00m(\u001b[39m\"\u001b[39m\u001b[39mChoose either \u001b[39m\u001b[39m'\u001b[39m\u001b[39madd\u001b[39m\u001b[39m'\u001b[39m\u001b[39m or \u001b[39m\u001b[39m'\u001b[39m\u001b[39mmultiply\u001b[39m\u001b[39m'\u001b[39m\u001b[39m as methods \u001b[39m\u001b[39m\"\u001b[39m) \n",
      "\u001b[1;31mException\u001b[0m: Rows from 1st array: 2, and Colums from 2nd array: 3, don't have the correct dimensions"
     ]
    }
   ],
   "source": [
    "add_mult_matrices(A,C,'multiply')"
   ]
  },
  {
   "cell_type": "code",
   "execution_count": null,
   "id": "4538c1c7",
   "metadata": {},
   "outputs": [
    {
     "name": "stdout",
     "output_type": "stream",
     "text": [
      "Multiplying arrays\n"
     ]
    },
    {
     "data": {
      "text/plain": [
       "array([[11, 10],\n",
       "       [10, 11]])"
      ]
     },
     "execution_count": 128,
     "metadata": {},
     "output_type": "execute_result"
    }
   ],
   "source": [
    "add_mult_matrices(C,D,'multiply')"
   ]
  },
  {
   "cell_type": "code",
   "execution_count": null,
   "id": "5ac0e214",
   "metadata": {},
   "outputs": [
    {
     "name": "stdout",
     "output_type": "stream",
     "text": [
      "Multiplying arrays\n"
     ]
    },
    {
     "data": {
      "text/plain": [
       "array([[  8, -10,  -3],\n",
       "       [ 10,  -8,   0]])"
      ]
     },
     "execution_count": 129,
     "metadata": {},
     "output_type": "execute_result"
    }
   ],
   "source": [
    "add_mult_matrices(C,B,'multiply')"
   ]
  },
  {
   "cell_type": "markdown",
   "id": "5000c829",
   "metadata": {},
   "source": [
    "**Chap2. Question 2**"
   ]
  },
  {
   "cell_type": "code",
   "execution_count": null,
   "id": "44dab740",
   "metadata": {},
   "outputs": [
    {
     "name": "stdout",
     "output_type": "stream",
     "text": [
      "AB = AC is True\n",
      "B = C is False\n"
     ]
    }
   ],
   "source": [
    "A = np.array([[1, 2], [2, 4]])\n",
    "B = np.array([[2, 1], [1, 3]])\n",
    "C = np.array([[4, 3], [0, 2]])\n",
    "\n",
    "AB = A.dot(B)\n",
    "AC = A.dot(C)\n",
    "\n",
    "#Verify that AB = AC and yet B ̸= C\n",
    "print(f\"AB = AC is {AB.shape == AC.shape}\")\n",
    "print(f\"B = C is {B.shape != C.shape}\")\n"
   ]
  },
  {
   "cell_type": "markdown",
   "id": "a7f5b140",
   "metadata": {},
   "source": [
    "**Chap2. Question 3**"
   ]
  },
  {
   "cell_type": "code",
   "execution_count": null,
   "id": "668b1323",
   "metadata": {},
   "outputs": [
    {
     "name": "stdout",
     "output_type": "stream",
     "text": [
      "AD: \n",
      " [[ 2  3  4]\n",
      " [ 2  6 12]\n",
      " [ 2  9 16]] \n",
      "\n",
      "DA: \n",
      " [[ 2  2  2]\n",
      " [ 3  6  9]\n",
      " [ 4 12 16]]\n"
     ]
    }
   ],
   "source": [
    "A = np.array([[1,1,1],[1,2,3],[1,3,4]])\n",
    "D = np.array([[2,0,0],[0,3,0],[0,0,4]])\n",
    "\n",
    "#Compute AD and DA\n",
    "AD = A.dot(D)\n",
    "DA = D.dot(A)\n",
    "print(\"AD: \\n\",AD,\"\\n\")\n",
    "print(\"DA: \\n\",DA)"
   ]
  },
  {
   "cell_type": "markdown",
   "id": "334ca623",
   "metadata": {},
   "source": [
    "**Quiz p.11, Question 2**"
   ]
  },
  {
   "cell_type": "code",
   "execution_count": null,
   "id": "b031a786",
   "metadata": {},
   "outputs": [
    {
     "data": {
      "text/plain": [
       "array([[-2,  2],\n",
       "       [ 2, -2]])"
      ]
     },
     "execution_count": 131,
     "metadata": {},
     "output_type": "execute_result"
    }
   ],
   "source": [
    "fir = np.array([[1, -1], [-1, 1]])\n",
    "sec = np.array([[-1, 1], [1, -1]])\n",
    "\n",
    "fir.dot(sec)"
   ]
  },
  {
   "cell_type": "markdown",
   "id": "fbfb4124",
   "metadata": {},
   "source": [
    "**Chap 6. Question 1**"
   ]
  },
  {
   "cell_type": "code",
   "execution_count": null,
   "id": "9c68d160",
   "metadata": {},
   "outputs": [
    {
     "name": "stdout",
     "output_type": "stream",
     "text": [
      "[[ 5. -6.]\n",
      " [-4.  5.]] \n",
      "\n",
      "[[ 1.  0.]\n",
      " [-0.  1.]] \n",
      "\n",
      "True \n",
      "\n",
      "Checking second array...\n",
      "[[ 0.5 -0.7]\n",
      " [-0.5  1. ]] \n",
      "\n",
      "[[1. 0.]\n",
      " [0. 1.]] \n",
      "\n",
      "True\n"
     ]
    }
   ],
   "source": [
    "#Find the inverses of the matrices\n",
    "arr1 = np.array([[5, 6], [4, 5]])\n",
    "arr2 = np.array([[6, 4], [3, 3]])\n",
    "inverse1 = np.linalg.inv(arr1)\n",
    "inverse2 = np.linalg.inv(arr2)\n",
    "\n",
    "print(inverse1,\"\\n\")\n",
    "#np.set_printoptions() is used to round floats\n",
    "np.set_printoptions(suppress=True) \n",
    "print(arr1 @ inverse1,\"\\n\")\n",
    "\n",
    "check = np.allclose(arr1 @ inverse1, np.eye(2))\n",
    "print(check,\"\\n\")\n",
    "print(\"Checking second array...\")\n",
    "\n",
    "print(inverse2,\"\\n\")\n",
    "np.set_printoptions(precision=1) \n",
    "print(arr2 @ inverse2,\"\\n\")\n",
    "\n",
    "check = np.allclose(arr2 @ inverse2, np.eye(2))\n",
    "print(check)\n"
   ]
  },
  {
   "cell_type": "markdown",
   "id": "574b6d18",
   "metadata": {},
   "source": [
    "**Quiz p.19, Question 3**"
   ]
  },
  {
   "cell_type": "code",
   "execution_count": null,
   "id": "c4cc11eb",
   "metadata": {},
   "outputs": [
    {
     "name": "stdout",
     "output_type": "stream",
     "text": [
      "[[ 1.  -1. ]\n",
      " [-0.5  1. ]] \n",
      "\n",
      "[[1. 0.]\n",
      " [0. 1.]] \n",
      "\n"
     ]
    }
   ],
   "source": [
    "#Which matrix is the inverse of [2 2],[1 2]?   Stämmer denna verkligen med bokens uppgift eller har jag missat något?\n",
    "arr3 = np.array([[2, 2], [1, 2]])\n",
    "inverse3 = np.linalg.inv(arr3)\n",
    "print(inverse3,\"\\n\")\n",
    "print(arr3 @ inverse3,\"\\n\")"
   ]
  },
  {
   "cell_type": "markdown",
   "id": "5de93779",
   "metadata": {},
   "source": [
    "**Chap10. Question 1 a)**"
   ]
  },
  {
   "cell_type": "code",
   "execution_count": null,
   "id": "e9a63544",
   "metadata": {},
   "outputs": [
    {
     "name": "stdout",
     "output_type": "stream",
     "text": [
      "[ 3.  4. -6.]\n",
      "[-7.  5.  2.]\n"
     ]
    }
   ],
   "source": [
    "first = np.array([[3, -7, -2], [-3, 5, 1], [6, -4, 0]])\n",
    "second = np.array([-7, 5, 2])\n",
    "\n",
    "gauss = np.linalg.solve(first,second)\n",
    "print(gauss)\n",
    "print(first @ gauss)"
   ]
  },
  {
   "cell_type": "markdown",
   "id": "3f49e9e1",
   "metadata": {},
   "source": [
    "**Chap10. Question 1 b)**"
   ]
  },
  {
   "cell_type": "code",
   "execution_count": null,
   "id": "6f6e72fb",
   "metadata": {},
   "outputs": [
    {
     "name": "stdout",
     "output_type": "stream",
     "text": [
      "[ 8.  2. -1.]\n",
      "[ 1. -1.  1.]\n"
     ]
    }
   ],
   "source": [
    "first = np.array([[1, -2, 3], [-1, 3, -1], [2, -5, 5]])\n",
    "second = np.array([1, -1, 1])\n",
    "\n",
    "gauss = np.linalg.solve(first,second)\n",
    "print(gauss)\n",
    "print(first @ gauss)"
   ]
  },
  {
   "cell_type": "markdown",
   "id": "beb0a8af",
   "metadata": {},
   "source": [
    "**Chap 12. Question 1**"
   ]
  },
  {
   "cell_type": "code",
   "execution_count": null,
   "id": "4fe15c46",
   "metadata": {},
   "outputs": [
    {
     "name": "stdout",
     "output_type": "stream",
     "text": [
      "[[ 0.7  1.3  0.5]\n",
      " [ 1.   2.   0.5]\n",
      " [-3.  -5.  -1. ]]\n",
      "True\n"
     ]
    }
   ],
   "source": [
    "chp12 = np.array([[3, -7, -2], [-3, 5, 1], [6, -4, 0]])\n",
    "inverse4 = np.linalg.inv(chp12)\n",
    "\n",
    "check = np.allclose(chp12 @ inverse4, np.eye(3))\n",
    "np.set_printoptions(precision=1) \n",
    "print(inverse4)\n",
    "print(check)"
   ]
  },
  {
   "cell_type": "markdown",
   "id": "6a4a524f",
   "metadata": {},
   "source": [
    "### Copies and Views\n",
    "Read the following link: https://numpy.org/doc/stable/user/basics.copies.html"
   ]
  },
  {
   "cell_type": "markdown",
   "id": "6cbbeaf7",
   "metadata": {},
   "source": [
    "**Basic indexing creates a view, How can you check if v1 and v2 is a view or copy? If you change the last element in v2 to 123, will the last element in v1 be changed? Why?**"
   ]
  },
  {
   "cell_type": "code",
   "execution_count": null,
   "id": "5b9ef4df",
   "metadata": {},
   "outputs": [
    {
     "name": "stdout",
     "output_type": "stream",
     "text": [
      "[0 1 2 3]\n",
      "[2 3]\n"
     ]
    }
   ],
   "source": [
    "v1 = np.arange(4)\n",
    "##v1 = np.arange(9).reshape(3, 3)\n",
    "v2 = v1[-2:]\n",
    "print(v1)\n",
    "print(v2)"
   ]
  },
  {
   "cell_type": "code",
   "execution_count": null,
   "id": "d2440489",
   "metadata": {},
   "outputs": [
    {
     "name": "stdout",
     "output_type": "stream",
     "text": [
      "V1:  None\n",
      "V2:  [ 0  1 10 11]\n"
     ]
    }
   ],
   "source": [
    "# The base attribute of a view returns the original array while it returns None for a copy.\n",
    "v1[2:] = [10, 11]\n",
    "print(\"V1: \",v1.base)\n",
    "print(\"V2: \",v2.base)"
   ]
  },
  {
   "cell_type": "code",
   "execution_count": null,
   "id": "c8752807",
   "metadata": {},
   "outputs": [
    {
     "name": "stdout",
     "output_type": "stream",
     "text": [
      "[  0   1  10 123]\n",
      "[ 10 123]\n"
     ]
    }
   ],
   "source": [
    "# The last element in v1 will be changed aswell since v2 is a view, meaning they share the same data buffer.\n",
    "v2[-1] = 123\n",
    "print(v1)\n",
    "print(v2)"
   ]
  },
  {
   "cell_type": "code",
   "execution_count": null,
   "id": "3dd68221",
   "metadata": {},
   "outputs": [],
   "source": [
    "# Är det en fråga för svaren står ovan ?"
   ]
  }
 ],
 "metadata": {
  "kernelspec": {
   "display_name": "Python 3 (ipykernel)",
   "language": "python",
   "name": "python3"
  },
  "language_info": {
   "codemirror_mode": {
    "name": "ipython",
    "version": 3
   },
   "file_extension": ".py",
   "mimetype": "text/x-python",
   "name": "python",
   "nbconvert_exporter": "python",
   "pygments_lexer": "ipython3",
   "version": "3.11.5"
  }
 },
 "nbformat": 4,
 "nbformat_minor": 5
}
